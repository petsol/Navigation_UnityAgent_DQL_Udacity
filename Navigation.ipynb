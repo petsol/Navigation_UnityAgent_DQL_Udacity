{
 "cells": [
  {
   "cell_type": "markdown",
   "metadata": {},
   "source": [
    "# Navigation\n",
    "\n",
    "---\n",
    "\n",
    "In this notebook, you will learn how to use the Unity ML-Agents environment for the first project of the [Deep Reinforcement Learning Nanodegree](https://www.udacity.com/course/deep-reinforcement-learning-nanodegree--nd893).\n",
    "\n",
    "### 1. Start the Environment\n",
    "\n",
    "We begin by importing some necessary packages.  If the code cell below returns an error, please revisit the project instructions to double-check that you have installed [Unity ML-Agents](https://github.com/Unity-Technologies/ml-agents/blob/master/docs/Installation.md) and [NumPy](http://www.numpy.org/)."
   ]
  },
  {
   "cell_type": "code",
   "execution_count": 1,
   "metadata": {},
   "outputs": [],
   "source": [
    "import os, sys\n",
    "\n",
    "import numpy as np\n",
    "import matplotlib.pyplot as plt\n",
    "import torch\n",
    "\n",
    "from collections import namedtuple \n",
    "\n",
    "from unityagents import UnityEnvironment"
   ]
  },
  {
   "cell_type": "markdown",
   "metadata": {},
   "source": [
    "Next, we will start the environment!  **_Before running the code cell below_**, change the `file_name` parameter to match the location of the Unity environment that you downloaded.\n",
    "\n",
    "- **Mac**: `\"path/to/Banana.app\"`\n",
    "- **Windows** (x86): `\"path/to/Banana_Windows_x86/Banana.exe\"`\n",
    "- **Windows** (x86_64): `\"path/to/Banana_Windows_x86_64/Banana.exe\"`\n",
    "- **Linux** (x86): `\"path/to/Banana_Linux/Banana.x86\"`\n",
    "- **Linux** (x86_64): `\"path/to/Banana_Linux/Banana.x86_64\"`\n",
    "- **Linux** (x86, headless): `\"path/to/Banana_Linux_NoVis/Banana.x86\"`\n",
    "- **Linux** (x86_64, headless): `\"path/to/Banana_Linux_NoVis/Banana.x86_64\"`\n",
    "\n",
    "For instance, if you are using a Mac, then you downloaded `Banana.app`.  If this file is in the same folder as the notebook, then the line below should appear as follows:\n",
    "```\n",
    "env = UnityEnvironment(file_name=\"Banana.app\")\n",
    "```"
   ]
  },
  {
   "cell_type": "code",
   "execution_count": 2,
   "metadata": {},
   "outputs": [
    {
     "name": "stderr",
     "output_type": "stream",
     "text": [
      "INFO:unityagents:\n",
      "'Academy' started successfully!\n",
      "Unity Academy name: Academy\n",
      "        Number of Brains: 1\n",
      "        Number of External Brains : 1\n",
      "        Lesson number : 0\n",
      "        Reset Parameters :\n",
      "\t\t\n",
      "Unity brain name: BananaBrain\n",
      "        Number of Visual Observations (per agent): 0\n",
      "        Vector Observation space type: continuous\n",
      "        Vector Observation space size (per agent): 37\n",
      "        Number of stacked Vector Observation: 1\n",
      "        Vector Action space type: discrete\n",
      "        Vector Action space size (per agent): 4\n",
      "        Vector Action descriptions: , , , \n"
     ]
    }
   ],
   "source": [
    "env = UnityEnvironment(file_name=\"Banana_Windows_x86_64/Banana.exe\")"
   ]
  },
  {
   "cell_type": "markdown",
   "metadata": {},
   "source": [
    "Environments contain **_brains_** which are responsible for deciding the actions of their associated agents. Here we check for the first brain available, and set it as the default brain we will be controlling from Python."
   ]
  },
  {
   "cell_type": "code",
   "execution_count": 3,
   "metadata": {},
   "outputs": [],
   "source": [
    "# get the default brain\n",
    "brain_name = env.brain_names[0]\n",
    "brain = env.brains[brain_name]"
   ]
  },
  {
   "cell_type": "markdown",
   "metadata": {},
   "source": [
    "### 2. Examine the State and Action Spaces\n",
    "\n",
    "The simulation contains a single agent that navigates a large environment.  At each time step, it has four actions at its disposal:\n",
    "- `0` - walk forward \n",
    "- `1` - walk backward\n",
    "- `2` - turn left\n",
    "- `3` - turn right\n",
    "\n",
    "The state space has `37` dimensions and contains the agent's velocity, along with ray-based perception of objects around agent's forward direction.  A reward of `+1` is provided for collecting a yellow banana, and a reward of `-1` is provided for collecting a blue banana. \n",
    "\n",
    "Run the code cell below to print some information about the environment."
   ]
  },
  {
   "cell_type": "code",
   "execution_count": 4,
   "metadata": {},
   "outputs": [
    {
     "name": "stdout",
     "output_type": "stream",
     "text": [
      "Number of agents: 1\n",
      "Number of actions: 4\n",
      "States look like: [1.         0.         0.         0.         0.84408134 0.\n",
      " 0.         1.         0.         0.0748472  0.         1.\n",
      " 0.         0.         0.25755    1.         0.         0.\n",
      " 0.         0.74177343 0.         1.         0.         0.\n",
      " 0.25854847 0.         0.         1.         0.         0.09355672\n",
      " 0.         1.         0.         0.         0.31969345 0.\n",
      " 0.        ]\n",
      "States have length: 37\n"
     ]
    }
   ],
   "source": [
    "# reset the environment\n",
    "env_info = env.reset(train_mode=True)[brain_name]\n",
    "\n",
    "# number of agents in the environment\n",
    "print('Number of agents:', len(env_info.agents))\n",
    "\n",
    "# number of actions\n",
    "action_size = brain.vector_action_space_size\n",
    "print('Number of actions:', action_size)\n",
    "\n",
    "# examine the state space \n",
    "state = env_info.vector_observations[0]\n",
    "print('States look like:', state)\n",
    "state_size = len(state)\n",
    "print('States have length:', state_size)"
   ]
  },
  {
   "cell_type": "markdown",
   "metadata": {},
   "source": [
    "### 3. Take Random Actions in the Environment\n",
    "\n",
    "In the next code cell, you will learn how to use the Python API to control the agent and receive feedback from the environment.\n",
    "\n",
    "Once this cell is executed, you will watch the agent's performance, if it selects an action (uniformly) at random with each time step.  A window should pop up that allows you to observe the agent, as it moves through the environment.  \n",
    "\n",
    "Of course, as part of the project, you'll have to change the code so that the agent is able to use its experience to gradually choose better actions when interacting with the environment!"
   ]
  },
  {
   "cell_type": "code",
   "execution_count": 5,
   "metadata": {},
   "outputs": [
    {
     "name": "stdout",
     "output_type": "stream",
     "text": [
      "Score: 0.0, Steps:300\n"
     ]
    }
   ],
   "source": [
    "env_info = env.reset(train_mode=False)[brain_name] # reset the environment\n",
    "state = env_info.vector_observations[0]            # get the current state\n",
    "score = 0                                          # initialize the score\n",
    "steps = 0\n",
    "\n",
    "while True:\n",
    "    steps += 1\n",
    "    action = np.random.randint(action_size)        # select an action\n",
    "    env_info = env.step(action)[brain_name]        # send the action to the environment\n",
    "    next_state = env_info.vector_observations[0]   # get the next state\n",
    "    reward = env_info.rewards[0]                   # get the reward\n",
    "    done = env_info.local_done[0]                  # see if episode has finished\n",
    "    score += reward                                # update the score\n",
    "    state = next_state                             # roll over the state to next time step\n",
    "    if done:                                       # exit loop if episode finished\n",
    "        break\n",
    "    \n",
    "print(\"Score: {}, Steps:{}\".format(score, steps))"
   ]
  },
  {
   "cell_type": "markdown",
   "metadata": {},
   "source": [
    "When finished, you can close the environment."
   ]
  },
  {
   "cell_type": "code",
   "execution_count": 6,
   "metadata": {},
   "outputs": [],
   "source": [
    "#env.close()"
   ]
  },
  {
   "cell_type": "markdown",
   "metadata": {},
   "source": [
    "### 4. It's Your Turn!\n",
    "\n",
    "Now it's your turn to train your own agent to solve the environment!  When training the environment, set `train_mode=True`, so that the line for resetting the environment looks like the following:\n",
    "```python\n",
    "env_info = env.reset(train_mode=True)[brain_name]\n",
    "```"
   ]
  },
  {
   "cell_type": "code",
   "execution_count": 7,
   "metadata": {},
   "outputs": [],
   "source": [
    "class BananaNetQLearner(torch.nn.Module):\n",
    "    \"\"\"\n",
    "    Fully connected network to solve Banana problem\n",
    "    \"\"\"\n",
    "    \n",
    "    def __init__(self, state_size=5, fcn1=128, fcn2=64, action_size=3):\n",
    "        super().__init__()\n",
    "        \n",
    "        \n",
    "        self.fcn1   = torch.nn.Linear(state_size, fcn1)\n",
    "        self.fcn2   = torch.nn.Linear(fcn1, fcn2)\n",
    "        self.out    = torch.nn.Linear(fcn2, action_size)\n",
    "\n",
    "    def forward(self, x):\n",
    "        \n",
    "        x = self.fcn1(x)\n",
    "        x = torch.nn.functional.relu(x)\n",
    "        x = self.fcn2(x)\n",
    "        x = torch.nn.functional.relu(x)\n",
    "        x = self.out(x)\n",
    "        \n",
    "        return x      "
   ]
  },
  {
   "cell_type": "code",
   "execution_count": 8,
   "metadata": {},
   "outputs": [],
   "source": [
    "class ExperienceBuffer():\n",
    "    \n",
    "    def __init__(self, batch_size=8, buffer_length=16, state_size=5, _action_size=1, _reward_size=1, _isdone_size=1):\n",
    "        \n",
    "        self.batch_size = batch_size\n",
    "        self.buffer_length = buffer_length\n",
    "        self.collected_samples = 0\n",
    "        \n",
    "        self.current_states = np.array(np.zeros((buffer_length, state_size )), dtype=np.float32)\n",
    "        self.next_states    = np.array(np.zeros((buffer_length, state_size )), dtype=np.float32)\n",
    "        self.actions        = np.array(np.zeros((buffer_length, _action_size)), dtype=np.int64)\n",
    "        self.rewards        = np.array(np.zeros((buffer_length, _reward_size)), dtype=np.float32)\n",
    "        self.isdones        = np.array(np.zeros((buffer_length, _isdone_size)), dtype=np.float32)\n",
    "        \n",
    "        self.insertion_index = 0\n",
    "        \n",
    "    def insert(self, current_state, action, next_state, reward, isdone):\n",
    "        \n",
    "        self.current_states[self.insertion_index] = current_state\n",
    "        self.next_states[self.insertion_index] = next_state\n",
    "        self.actions[self.insertion_index] = action\n",
    "        self.rewards[self.insertion_index] = reward\n",
    "        self.isdones[self.insertion_index] = float(isdone)\n",
    "        \n",
    "        self.collected_samples = min(self.collected_samples + 1, self.buffer_length)\n",
    "        \n",
    "        if self.insertion_index >= (self.buffer_length - 1):\n",
    "            self.insertion_index = 0\n",
    "        else:\n",
    "            self.insertion_index += 1\n",
    "            \n",
    "        #print(self.current_states)\n",
    "            \n",
    "    def sample(self):\n",
    "        #print(min(self.buffer_length, self.collected_samples))\n",
    "        indices = np.random.choice(min(self.buffer_length, self.collected_samples), self.batch_size)\n",
    "        \n",
    "        return {    'current_states':    self.current_states[indices],\n",
    "                    'next_states':       self.next_states[indices],\n",
    "                    'actions':           self.actions[indices],\n",
    "                    'rewards':           self.rewards[indices],\n",
    "                    'isdones':           self.isdones[indices]\n",
    "               }"
   ]
  },
  {
   "cell_type": "code",
   "execution_count": 9,
   "metadata": {},
   "outputs": [],
   "source": [
    "ProjectParameters = namedtuple('ProjectParameters', \n",
    "                                [\n",
    "                                    'stop_at_average_reward',\n",
    "                                    'tau', \n",
    "                                    'batch_size', \n",
    "                                    'gamma', \n",
    "                                    'lr', \n",
    "                                    'update_freq', \n",
    "                                    'episodes', \n",
    "                                    'print_every',\n",
    "                                    'mean_window_size',\n",
    "                                    'max_steps',\n",
    "                                    'epsilon_start', 'epsilon_min', 'epsilon_decay',\n",
    "                                    'update_type',\n",
    "                                    'state_size', 'action_size',\n",
    "                                    'fcn1', 'fcn2',\n",
    "                                    'seed',\n",
    "                                    'buffer_length'\n",
    "                                ])"
   ]
  },
  {
   "cell_type": "code",
   "execution_count": 10,
   "metadata": {},
   "outputs": [],
   "source": [
    "def update_kwargdict(kwargs, input_collection, elements):\n",
    "    kwargs.update({elem:input_collection._asdict()[elem] for elem in elements})"
   ]
  },
  {
   "cell_type": "code",
   "execution_count": 14,
   "metadata": {},
   "outputs": [],
   "source": [
    "class Agent():\n",
    "    \n",
    "    def __init__(self, env, pps, network_type=BananaNetQLearner, network_kwargs={}, expbuffer_kwargs={}):\n",
    "        \n",
    "        self.pps = pps\n",
    "        torch.manual_seed(self.pps.seed)\n",
    "        np.random.seed(self.pps.seed)\n",
    "\n",
    "        update_kwargdict(network_kwargs, pps, ['state_size', 'fcn1', 'fcn2', 'action_size'])\n",
    "        update_kwargdict(expbuffer_kwargs, pps, ['batch_size', 'buffer_length', 'state_size'])\n",
    "\n",
    "        self.local_Q_table = network_type(**network_kwargs)\n",
    "        self.target_Q_table = network_type(**network_kwargs)\n",
    "        self.experience_buffer = ExperienceBuffer(**expbuffer_kwargs)\n",
    "        self.env = env\n",
    "        #env.seed(self.pps.seed)\n",
    "        \n",
    "        self.optimizer = torch.optim.Adam(self.local_Q_table.parameters(), lr=pps.lr)\n",
    "        self.current_state = None\n",
    "        self.current_isdone = False\n",
    "        self.scores, self.durations = [], []\n",
    "        self.flat_steps = 0\n",
    "        self.updatefunc = self.tau_update if pps.update_type == 'tau' else self.full_update\n",
    "        self.epsilon = pps.epsilon_start\n",
    "        self.experience_buffer_min = pps.batch_size * 10\n",
    "        self.max_steps = self.pps.max_steps\n",
    "\n",
    "    def run_session(self):\n",
    "        for episode in range(self.pps.episodes):\n",
    "            self.run_episode()\n",
    "            self.max_steps += 1 # first terminate episodes early, later relax this\n",
    "\n",
    "            average_score = np.mean(self.scores[-self.pps.mean_window_size:])                \n",
    "\n",
    "            if (episode+1) % self.pps.print_every == 0:\n",
    "                print('Episode: {}... AvgLast{}Score: {:.5f}... AvgLast{}EpisodeDuration: {:.2f}... Epsilon: {:.4f}'.format( \\\n",
    "                    episode+1, \n",
    "                    self.pps.mean_window_size,\n",
    "                    average_score,\n",
    "                    self.pps.mean_window_size,\n",
    "                    np.mean(self.durations[-self.pps.mean_window_size:]),\n",
    "                    self.epsilon\n",
    "                ))\n",
    "            \n",
    "            if average_score > self.pps.stop_at_average_reward:\n",
    "                break\n",
    "                      \n",
    "        print('\\nTraining Finished!!!\\n Concluded at Episode: {} AvgLast{}Score: {:.5f}...'.format(\n",
    "            episode+1, \n",
    "            self.pps.mean_window_size,    \n",
    "            average_score\n",
    "        ))     \n",
    "        \n",
    "    def run_episode(self): \n",
    "        vdata, self.current_isdone =  env.reset(train_mode=True)[brain_name], False\n",
    "        self.current_state = vdata.vector_observations[0] \n",
    "        episode_step, episode_score = 0, 0\n",
    "        self.epsilon = max(self.pps.epsilon_min, self.pps.epsilon_decay*self.epsilon)\n",
    "        while not self.current_isdone and episode_step < self.max_steps:\n",
    "            episode_score += self.step()\n",
    "            episode_step += 1 \n",
    "       \n",
    "        self.durations.append(episode_step)        \n",
    "        self.scores.append(episode_score)\n",
    "        \n",
    "    def step(self):       \n",
    "        \n",
    "        # step in the environment\n",
    "        self.local_Q_table.train(False)\n",
    "        action = self.select_action(self.current_state)\n",
    "        vdata = self.env.step(action)[brain_name]\n",
    "        next_state, reward, self.current_isdone = vdata.vector_observations[0], vdata.rewards[0], vdata.local_done[0]  \n",
    "        \n",
    "        # store\n",
    "        self.experience_buffer.insert(self.current_state, action, next_state, reward, self.current_isdone)\n",
    "        \n",
    "        # learn\n",
    "        if self.experience_buffer.collected_samples >= self.experience_buffer_min:\n",
    "            self.local_Q_table.train(True)\n",
    "            self.qlearn(**self.experience_buffer.sample())\n",
    "            self.flat_steps += 1 # first go will be an update for sure, put it before to cancel\n",
    "\n",
    "        # update\n",
    "        self.current_state = next_state\n",
    "        \n",
    "        return reward\n",
    "            \n",
    "    def qlearn(self, current_states, next_states, actions, rewards, isdones): # input variables are M[batchsize, positive_size] \n",
    "        \n",
    "        # convert numpy to tensors\n",
    "        with torch.no_grad():\n",
    "            current_states = torch.from_numpy(current_states).float()\n",
    "            next_states = torch.from_numpy(next_states).float()\n",
    "            actions = torch.from_numpy(actions).long()\n",
    "            rewards = torch.from_numpy(rewards).float()\n",
    "            isdones = torch.from_numpy(isdones).float()\n",
    "            \n",
    "        #print(actions.shape, current_states.shape, next_states.shape, rewards.shape, isdones.shape)\n",
    "\n",
    "        # get q-s [batch, 1] for current and next state\n",
    "        q_currents = (self.local_Q_table(current_states) # M[batchsize, actionsize]\n",
    "                        .gather(1, actions) # M[batchsize, 1], remains attached to autograd!\n",
    "                     )\n",
    "        \n",
    "                      \n",
    "        q_nexts = (self.target_Q_table(next_states) # M[batchsize, actionsize]\n",
    "                        .detach() \n",
    "                        .max(dim=1)[0] # V[batchsize] [0] -> values (later verions: .values)\n",
    "                        .unsqueeze(1) # make M[batchsize, 1] matrix from vector \n",
    "                    )\n",
    "        # calculate learning target value for current q-s [batch, 1]\n",
    "        with torch.no_grad(): \n",
    "            q_currents_learning_target = rewards + self.pps.gamma * q_nexts * (1. - isdones)\n",
    "            \n",
    "        # calculate loss\n",
    "        loss = torch.nn.functional.mse_loss(q_currents, q_currents_learning_target)\n",
    "        \n",
    "        # backpropagate loss\n",
    "        self.optimizer.zero_grad()\n",
    "        loss.backward()\n",
    "        self.optimizer.step() \n",
    "        \n",
    "        # set target network\n",
    "        if self.flat_steps % self.pps.update_freq == 0:\n",
    "            self.updatefunc()\n",
    "            \n",
    "    def full_update(self):\n",
    "        for target_param, local_param in zip(self.target_Q_table.parameters(), self.local_Q_table.parameters()):\n",
    "            target_param.data.copy_(local_param.data)\n",
    "            \n",
    "    def tau_update(self):\n",
    "        for target_param, local_param in zip(self.target_Q_table.parameters(), self.local_Q_table.parameters()):\n",
    "            target_param.data.copy_(self.pps.tau * (local_param.data) + (1. - self.pps.tau) *target_param.data)    \n",
    "                \n",
    "    def select_action(self, current_state):\n",
    "        if np.random.random() < self.epsilon:\n",
    "            return np.random.choice([0,1,2,3])\n",
    "        else:\n",
    "            #print(current_state)\n",
    "            return self.local_Q_table(torch.from_numpy(current_state).float().unsqueeze(0)).detach().max(dim=1)[1].item() # [1] -> indices"
   ]
  },
  {
   "cell_type": "code",
   "execution_count": 25,
   "metadata": {},
   "outputs": [],
   "source": [
    "def plot_episode_scores(scores, target):\n",
    "    score = plt.plot(scores, color='blue', label='Scores')\n",
    "    avg100 = plt.plot(np.hstack([np.empty((100,)) * np.nan, np.convolve(scores, np.ones((100,))/100, mode='valid')]), color='orange', label='Mean(100)')\n",
    "    target_ = plt.plot(np.ones((len(scores),)) * float(target), color='red', label='Target')\n",
    "    \n",
    "    plt.title(\"Learning Curve\")\n",
    "    plt.xlabel(\"Episode\")\n",
    "    plt.ylabel(\"Score\")\n",
    "    \n",
    "    plt.legend()\n",
    "    plt.show()"
   ]
  },
  {
   "cell_type": "code",
   "execution_count": 27,
   "metadata": {},
   "outputs": [
    {
     "name": "stdout",
     "output_type": "stream",
     "text": [
      "Episode: 10... AvgLast100Score: 3.50000... AvgLast100EpisodeDuration: 300.00... Epsilon: 0.0904\n",
      "Episode: 20... AvgLast100Score: 5.25000... AvgLast100EpisodeDuration: 300.00... Epsilon: 0.0818\n",
      "Episode: 30... AvgLast100Score: 6.23333... AvgLast100EpisodeDuration: 300.00... Epsilon: 0.0740\n",
      "Episode: 40... AvgLast100Score: 6.60000... AvgLast100EpisodeDuration: 300.00... Epsilon: 0.0669\n",
      "Episode: 50... AvgLast100Score: 6.88000... AvgLast100EpisodeDuration: 300.00... Epsilon: 0.0605\n",
      "Episode: 60... AvgLast100Score: 7.35000... AvgLast100EpisodeDuration: 300.00... Epsilon: 0.0547\n",
      "Episode: 70... AvgLast100Score: 7.52857... AvgLast100EpisodeDuration: 300.00... Epsilon: 0.0495\n",
      "Episode: 80... AvgLast100Score: 7.82500... AvgLast100EpisodeDuration: 300.00... Epsilon: 0.0448\n",
      "Episode: 90... AvgLast100Score: 8.01111... AvgLast100EpisodeDuration: 300.00... Epsilon: 0.0405\n",
      "Episode: 100... AvgLast100Score: 8.38000... AvgLast100EpisodeDuration: 300.00... Epsilon: 0.0366\n",
      "Episode: 110... AvgLast100Score: 9.10000... AvgLast100EpisodeDuration: 300.00... Epsilon: 0.0331\n",
      "Episode: 120... AvgLast100Score: 9.34000... AvgLast100EpisodeDuration: 300.00... Epsilon: 0.0299\n",
      "Episode: 130... AvgLast100Score: 9.65000... AvgLast100EpisodeDuration: 300.00... Epsilon: 0.0271\n",
      "Episode: 140... AvgLast100Score: 9.79000... AvgLast100EpisodeDuration: 300.00... Epsilon: 0.0245\n",
      "Episode: 150... AvgLast100Score: 10.17000... AvgLast100EpisodeDuration: 300.00... Epsilon: 0.0221\n",
      "Episode: 160... AvgLast100Score: 10.43000... AvgLast100EpisodeDuration: 300.00... Epsilon: 0.0200\n",
      "Episode: 170... AvgLast100Score: 11.02000... AvgLast100EpisodeDuration: 300.00... Epsilon: 0.0181\n",
      "Episode: 180... AvgLast100Score: 11.51000... AvgLast100EpisodeDuration: 300.00... Epsilon: 0.0164\n",
      "Episode: 190... AvgLast100Score: 11.81000... AvgLast100EpisodeDuration: 300.00... Epsilon: 0.0148\n",
      "Episode: 200... AvgLast100Score: 12.04000... AvgLast100EpisodeDuration: 300.00... Epsilon: 0.0134\n",
      "Episode: 210... AvgLast100Score: 11.99000... AvgLast100EpisodeDuration: 300.00... Epsilon: 0.0121\n",
      "Episode: 220... AvgLast100Score: 12.34000... AvgLast100EpisodeDuration: 300.00... Epsilon: 0.0110\n",
      "Episode: 230... AvgLast100Score: 12.54000... AvgLast100EpisodeDuration: 300.00... Epsilon: 0.0100\n",
      "Episode: 240... AvgLast100Score: 13.00000... AvgLast100EpisodeDuration: 300.00... Epsilon: 0.0100\n",
      "\n",
      "Training Finished!!!\n",
      " Concluded at Episode: 241 AvgLast100Score: 13.08000...\n"
     ]
    },
    {
     "data": {
      "image/png": "[encoded data removed]",
      "text/plain": [
       "<Figure size 432x288 with 1 Axes>"
      ]
     },
     "metadata": {
      "needs_background": "light"
     },
     "output_type": "display_data"
    }
   ],
   "source": [
    "pps = ProjectParameters(\n",
    "    #training parameters\n",
    "        stop_at_average_reward=13.,\n",
    "        tau=0.01, \n",
    "        batch_size=32, \n",
    "        gamma=0.95, \n",
    "        lr=0.0002, \n",
    "        update_freq=5,\n",
    "        episodes=500,\n",
    "        max_steps=300,\n",
    "        epsilon_start=0.1,\n",
    "        epsilon_min=0.01,\n",
    "        epsilon_decay=0.99,\n",
    "        update_type='full',\n",
    "    #environment parameters\n",
    "        state_size = 37,\n",
    "        action_size = 4,        \n",
    "    #network parameters\n",
    "        fcn1 = 128,\n",
    "        fcn2 = 64,\n",
    "        seed = 0,\n",
    "    #experience buffer parameters\n",
    "        buffer_length = 20000,\n",
    "    #communication parameters\n",
    "        print_every=10,\n",
    "        mean_window_size=100    \n",
    ")\n",
    "\n",
    "agent = Agent(env, pps=pps)\n",
    "agent.run_session()\n",
    "\n",
    "plot_episode_scores(agent.scores, 13.)"
   ]
  },
  {
   "cell_type": "code",
   "execution_count": 33,
   "metadata": {},
   "outputs": [],
   "source": [
    "torch.save(agent.local_Q_table.state_dict(), 'navigation_state_dict_local.tsf')\n",
    "torch.save(agent.target_Q_table.state_dict(), 'navigation_state_dict_target.tsf')"
   ]
  }
 ],
 "metadata": {
  "kernelspec": {
   "display_name": "Python 3",
   "language": "python",
   "name": "python3"
  },
  "language_info": {
   "codemirror_mode": {
    "name": "ipython",
    "version": 3
   },
   "file_extension": ".py",
   "mimetype": "text/x-python",
   "name": "python",
   "nbconvert_exporter": "python",
   "pygments_lexer": "ipython3",
   "version": "3.6.10"
  }
 },
 "nbformat": 4,
 "nbformat_minor": 4
}
